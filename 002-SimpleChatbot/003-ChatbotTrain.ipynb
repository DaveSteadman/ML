{
 "cells": [
  {
   "cell_type": "code",
   "execution_count": 1,
   "metadata": {},
   "outputs": [
    {
     "name": "stderr",
     "output_type": "stream",
     "text": [
      "d:\\projects\\007-anaconda\\envs\\tensorflow_gpu\\lib\\site-packages\\gensim\\utils.py:860: UserWarning: detected Windows; aliasing chunkize to chunkize_serial\n",
      "  warnings.warn(\"detected Windows; aliasing chunkize to chunkize_serial\")\n"
     ]
    }
   ],
   "source": [
    "# filepaths\n",
    "import os\n",
    "from os.path import basename\n",
    "\n",
    "# Regular expressions\n",
    "import glob\n",
    "import re\n",
    "\n",
    "# main modelling\n",
    "import multiprocessing\n",
    "import gensim.models.word2vec as w2v\n",
    "\n",
    "import numpy as np\n",
    "\n",
    "# reduction and display\n",
    "#import sklearn.manifold\n",
    "#import pandas as pd\n",
    "\n",
    "# Split Train/Test\n",
    "from sklearn.model_selection import train_test_split\n",
    "\n",
    "# plotting data\n",
    "#import matplotlib.pyplot as plt\n",
    "\n",
    "from matplotlib import pyplot as plt\n",
    "from IPython.display import clear_output\n",
    "\n",
    "# debug time output\n",
    "import time"
   ]
  },
  {
   "cell_type": "code",
   "execution_count": 2,
   "metadata": {},
   "outputs": [
    {
     "name": "stderr",
     "output_type": "stream",
     "text": [
      "d:\\projects\\007-anaconda\\envs\\tensorflow_gpu\\lib\\site-packages\\h5py\\__init__.py:36: FutureWarning: Conversion of the second argument of issubdtype from `float` to `np.floating` is deprecated. In future, it will be treated as `np.float64 == np.dtype(float).type`.\n",
      "  from ._conv import register_converters as _register_converters\n",
      "Using TensorFlow backend.\n"
     ]
    }
   ],
   "source": [
    "import os\n",
    "os.environ['KERAS_BACKEND'] = \"tensorflow\"\n",
    "\n",
    "import tensorflow as tf\n",
    "import keras\n",
    "from keras import backend\n",
    "from keras.models import load_model\n",
    "from keras.models import Sequential \n",
    "from keras.layers.recurrent import LSTM, SimpleRNN"
   ]
  },
  {
   "cell_type": "code",
   "execution_count": 3,
   "metadata": {},
   "outputs": [
    {
     "name": "stdout",
     "output_type": "stream",
     "text": [
      "TensorFlow Version: 1.8.0\n",
      "Keras Version: 2.1.6\n",
      "Keras Backend: tensorflow\n"
     ]
    }
   ],
   "source": [
    "print(\"TensorFlow Version:\", tf.__version__)\n",
    "print(\"Keras Version:\", keras.__version__)\n",
    "print(\"Keras Backend:\", keras.backend.backend())"
   ]
  },
  {
   "cell_type": "code",
   "execution_count": 4,
   "metadata": {},
   "outputs": [],
   "source": [
    "# -------------------------------------------------------------------------------------------------\n",
    "# Sentence Text Processing\n",
    "# -------------------------------------------------------------------------------------------------\n",
    "\n",
    "def legal_char_for_char(c):\n",
    "    if   c == '\\n': return ' '\n",
    "    return c\n",
    "\n",
    "def sentence_to_wordlist(sent):\n",
    "    cleansent = re.sub(\"[^a-zA-Z]\",\" \", sent)\n",
    "    words = cleansent.split()\n",
    "    return words\n",
    "\n",
    "def sentence_end_char(c):\n",
    "    if   c == '.':  return True\n",
    "    elif c == '?':  return True\n",
    "    elif c == '!':  return True\n",
    "    return False\n",
    "\n",
    "def mid_sentence_abbr(str):\n",
    "    if   str.endswith(\"Mr.\"): return True\n",
    "    elif str.endswith(\"Mrs.\"): return True\n",
    "    elif str.endswith(\"Dr.\"): return True\n",
    "    elif str.endswith(\"etc.\"): return True\n",
    "    elif str.endswith(\"ie.\"): return True\n",
    "    return False\n",
    "\n",
    "def import_textfile_to_sentencelist(filepath):\n",
    "    accumulated_sentence = \"\"\n",
    "    sentencelist = []\n",
    "    c = ' '\n",
    "    with open (filepath, \"r\") as f:\n",
    "        while c: \n",
    "            c = f.read(1)\n",
    "            accumulated_sentence += legal_char_for_char(c)\n",
    "\n",
    "            if ( (sentence_end_char(c)) and not (mid_sentence_abbr(accumulated_sentence)) ):\n",
    "                sentencelist.append(accumulated_sentence.strip())\n",
    "                accumulated_sentence = \"\"\n",
    "    return sentencelist\n",
    "\n",
    "def import_textfile_to_linelist(filepath):\n",
    "    with open (filepath, \"r\") as f:\n",
    "        content = f.readlines()\n",
    "    content = [x.strip('\\n') for x in content] \n",
    "    return content"
   ]
  },
  {
   "cell_type": "code",
   "execution_count": 5,
   "metadata": {},
   "outputs": [],
   "source": [
    "w2v_model = w2v.Word2Vec.load('fullw2v_d250_v85000.w2v')\n",
    "w2vDimension = 250"
   ]
  },
  {
   "cell_type": "code",
   "execution_count": 6,
   "metadata": {},
   "outputs": [],
   "source": [
    "# Crash protection function, for any word we can't lookup, we substitute an unk.\n",
    "\n",
    "def w2v_vect_for_word(text):\n",
    "    text = text.lower()\n",
    "    if (currword in w2v_model):\n",
    "        return w2v_model[text]\n",
    "    else:\n",
    "        return w2v_model['unk']"
   ]
  },
  {
   "cell_type": "code",
   "execution_count": 7,
   "metadata": {},
   "outputs": [
    {
     "name": "stdout",
     "output_type": "stream",
     "text": [
      "    unk found\n",
      "    hello found\n",
      "*** 12121221adwadasd not found\n"
     ]
    }
   ],
   "source": [
    "wordchecklist = ['UNK', 'Hello', '12121221ADWADASD']\n",
    "\n",
    "for currword in wordchecklist:\n",
    "    currword = currword.lower()\n",
    "    if (currword in w2v_model):\n",
    "        print ('    {} found'.format(currword))    \n",
    "    else:\n",
    "        print ('*** {} not found'.format(currword))    \n"
   ]
  },
  {
   "cell_type": "code",
   "execution_count": 8,
   "metadata": {},
   "outputs": [
    {
     "name": "stdout",
     "output_type": "stream",
     "text": [
      "../001-CorpusData/004-Dialog/002-Exchanges/001-ControlledDataset\\dialog_esl_conversations-q.txt\n",
      "../001-CorpusData/004-Dialog/002-Exchanges/001-ControlledDataset\\dialog_esl_conversations-a.txt\n",
      "15 files\n"
     ]
    }
   ],
   "source": [
    "# load the Q/A sentence files\n",
    "q_filelist = glob.glob(\"../001-CorpusData/004-Dialog/002-Exchanges/001-ControlledDataset/*-q.txt\")\n",
    "a_filelist = glob.glob(\"../001-CorpusData/004-Dialog/002-Exchanges/001-ControlledDataset/*-a.txt\")\n",
    "\n",
    "print(q_filelist[0])\n",
    "print(a_filelist[0])\n",
    "\n",
    "print(len(q_filelist), \"files\")"
   ]
  },
  {
   "cell_type": "code",
   "execution_count": 9,
   "metadata": {
    "scrolled": true
   },
   "outputs": [
    {
     "name": "stdout",
     "output_type": "stream",
     "text": [
      "Processing q-file: ../001-CorpusData/004-Dialog/002-Exchanges/001-ControlledDataset\\dialog_esl_conversations-q.txt\n",
      "Processing q-file: ../001-CorpusData/004-Dialog/002-Exchanges/001-ControlledDataset\\simpledialog-q.txt\n",
      "Processing q-file: ../001-CorpusData/004-Dialog/002-Exchanges/001-ControlledDataset\\st-ng-102-q.txt\n",
      "Processing q-file: ../001-CorpusData/004-Dialog/002-Exchanges/001-ControlledDataset\\st-ng-103-q.txt\n",
      "Processing q-file: ../001-CorpusData/004-Dialog/002-Exchanges/001-ControlledDataset\\st-ng-104-q.txt\n",
      "Processing q-file: ../001-CorpusData/004-Dialog/002-Exchanges/001-ControlledDataset\\st-ng-105-q.txt\n",
      "Processing q-file: ../001-CorpusData/004-Dialog/002-Exchanges/001-ControlledDataset\\st-ng-106-q.txt\n",
      "Processing q-file: ../001-CorpusData/004-Dialog/002-Exchanges/001-ControlledDataset\\st-ng-107-q.txt\n",
      "Processing q-file: ../001-CorpusData/004-Dialog/002-Exchanges/001-ControlledDataset\\st-ng-108-q.txt\n",
      "Processing q-file: ../001-CorpusData/004-Dialog/002-Exchanges/001-ControlledDataset\\st-ng-109-q.txt\n",
      "Processing q-file: ../001-CorpusData/004-Dialog/002-Exchanges/001-ControlledDataset\\st-ng-110-q.txt\n",
      "Processing q-file: ../001-CorpusData/004-Dialog/002-Exchanges/001-ControlledDataset\\st-ng-111-q.txt\n",
      "Processing q-file: ../001-CorpusData/004-Dialog/002-Exchanges/001-ControlledDataset\\st-ng-112-q.txt\n",
      "Processing q-file: ../001-CorpusData/004-Dialog/002-Exchanges/001-ControlledDataset\\st-ng-113-q.txt\n",
      "Processing q-file: ../001-CorpusData/004-Dialog/002-Exchanges/001-ControlledDataset\\st-ng-114-q.txt\n",
      "Processing a-file: ../001-CorpusData/004-Dialog/002-Exchanges/001-ControlledDataset\\dialog_esl_conversations-a.txt\n",
      "Processing a-file: ../001-CorpusData/004-Dialog/002-Exchanges/001-ControlledDataset\\simpledialog-a.txt\n",
      "Processing a-file: ../001-CorpusData/004-Dialog/002-Exchanges/001-ControlledDataset\\st-ng-102-a.txt\n",
      "Processing a-file: ../001-CorpusData/004-Dialog/002-Exchanges/001-ControlledDataset\\st-ng-103-a.txt\n",
      "Processing a-file: ../001-CorpusData/004-Dialog/002-Exchanges/001-ControlledDataset\\st-ng-104-a.txt\n",
      "Processing a-file: ../001-CorpusData/004-Dialog/002-Exchanges/001-ControlledDataset\\st-ng-105-a.txt\n",
      "Processing a-file: ../001-CorpusData/004-Dialog/002-Exchanges/001-ControlledDataset\\st-ng-106-a.txt\n",
      "Processing a-file: ../001-CorpusData/004-Dialog/002-Exchanges/001-ControlledDataset\\st-ng-107-a.txt\n",
      "Processing a-file: ../001-CorpusData/004-Dialog/002-Exchanges/001-ControlledDataset\\st-ng-108-a.txt\n",
      "Processing a-file: ../001-CorpusData/004-Dialog/002-Exchanges/001-ControlledDataset\\st-ng-109-a.txt\n",
      "Processing a-file: ../001-CorpusData/004-Dialog/002-Exchanges/001-ControlledDataset\\st-ng-110-a.txt\n",
      "Processing a-file: ../001-CorpusData/004-Dialog/002-Exchanges/001-ControlledDataset\\st-ng-111-a.txt\n",
      "Processing a-file: ../001-CorpusData/004-Dialog/002-Exchanges/001-ControlledDataset\\st-ng-112-a.txt\n",
      "Processing a-file: ../001-CorpusData/004-Dialog/002-Exchanges/001-ControlledDataset\\st-ng-113-a.txt\n",
      "Processing a-file: ../001-CorpusData/004-Dialog/002-Exchanges/001-ControlledDataset\\st-ng-114-a.txt\n",
      "q-linelist total:4881\n",
      "a-linelist total:4881\n"
     ]
    }
   ],
   "source": [
    "# take the book list, and create a list of text sentences\n",
    "full_qlinelist = []\n",
    "full_alinelist = []\n",
    "for currfile in q_filelist:\n",
    "    print(\"Processing q-file: {}\".format(currfile))\n",
    "    full_qlinelist.extend(import_textfile_to_linelist(currfile))\n",
    "for currfile in a_filelist:\n",
    "    print(\"Processing a-file: {}\".format(currfile))\n",
    "    full_alinelist.extend(import_textfile_to_linelist(currfile))\n",
    "    \n",
    "print(\"q-linelist total:{}\".format(len(full_qlinelist)))\n",
    "print(\"a-linelist total:{}\".format(len(full_alinelist)))"
   ]
  },
  {
   "cell_type": "code",
   "execution_count": 10,
   "metadata": {},
   "outputs": [
    {
     "name": "stdout",
     "output_type": "stream",
     "text": [
      "['hi', 'how', 'are', 'you', 'doing']\n",
      "['i', 'm', 'fine', 'how', 'about', 'yourself']\n"
     ]
    }
   ],
   "source": [
    "# take the list of q & a line, and produce and list of lists of words\n",
    "q_wordlist = []\n",
    "a_wordlist = []\n",
    "for currline in full_qlinelist:\n",
    "    currline = currline.lower()\n",
    "    words = sentence_to_wordlist(currline)\n",
    "    q_wordlist.append(words)\n",
    "for currline in full_alinelist:\n",
    "    currline = currline.lower()\n",
    "    words = sentence_to_wordlist(currline)\n",
    "    a_wordlist.append(words) \n",
    "    \n",
    "print (q_wordlist[0])  \n",
    "print (a_wordlist[0])  "
   ]
  },
  {
   "cell_type": "code",
   "execution_count": 11,
   "metadata": {},
   "outputs": [
    {
     "name": "stdout",
     "output_type": "stream",
     "text": [
      "['hi', 'how', 'are', 'you', 'doing', 'unk', 'unk', 'unk', 'unk', 'unk', 'unk', 'unk']\n",
      "['i', 'm', 'fine', 'how', 'about', 'yourself', 'unk', 'unk', 'unk', 'unk', 'unk', 'unk']\n"
     ]
    }
   ],
   "source": [
    "# Crop / Pad word lists at a fixed number of words\n",
    "\n",
    "WordPerSentenceLimit = 12\n",
    "\n",
    "q_limitedwordlist = []\n",
    "a_limitedwordlist = []\n",
    "\n",
    "for currline in q_wordlist:\n",
    "    currlinelen = len(currline)\n",
    "    if currlinelen < WordPerSentenceLimit:\n",
    "        for i in range (WordPerSentenceLimit - currlinelen):\n",
    "            currline.append('unk')\n",
    "    if currlinelen > WordPerSentenceLimit:\n",
    "        currline = currline[0:WordPerSentenceLimit-1]\n",
    "    q_limitedwordlist.append(currline)\n",
    "\n",
    "for currline in a_wordlist:\n",
    "    currlinelen = len(currline)\n",
    "    if currlinelen < WordPerSentenceLimit:\n",
    "        for i in range (WordPerSentenceLimit - currlinelen):\n",
    "            currline.append('unk')\n",
    "    if currlinelen > WordPerSentenceLimit:\n",
    "        currline = currline[0:WordPerSentenceLimit-1]\n",
    "    a_limitedwordlist.append(currline)\n",
    "    \n",
    "print (q_limitedwordlist[0])\n",
    "print (a_limitedwordlist[0])\n"
   ]
  },
  {
   "cell_type": "code",
   "execution_count": 12,
   "metadata": {},
   "outputs": [
    {
     "name": "stdout",
     "output_type": "stream",
     "text": [
      "4881\n",
      "12\n"
     ]
    }
   ],
   "source": [
    "print (len(q_limitedwordlist))\n",
    "print (len(q_limitedwordlist[0]))\n",
    "\n",
    "dim1 = len(q_limitedwordlist)\n",
    "dim2 = WordPerSentenceLimit\n",
    "dim3 = w2vDimension\n",
    "\n",
    "range1 = dim1-1\n",
    "range2 = dim2-1\n",
    "range3 = dim3\n",
    "\n",
    "q_np_vlist = np.zeros( (dim1,dim2,dim3) )\n",
    "a_np_vlist = np.zeros( (dim1,dim2,dim3) )\n",
    "\n",
    "for i1 in range(range1):\n",
    "    currsent = q_limitedwordlist[i1]\n",
    "    for i2 in range(range2):\n",
    "        currword = currsent[i2]\n",
    "        currvect = w2v_vect_for_word(currword)\n",
    "        for i3 in range(range3):\n",
    "            q_np_vlist[i1][i2][i3] = currvect[i3]\n",
    "\n",
    "for i1 in range(range1):\n",
    "    currsent = a_limitedwordlist[i1]\n",
    "    for i2 in range(range2):\n",
    "        currword = currsent[i2]\n",
    "        currvect = w2v_vect_for_word(currword)\n",
    "        for i3 in range(range3):\n",
    "            a_np_vlist[i1][i2][i3] = currvect[i3]\n"
   ]
  },
  {
   "cell_type": "code",
   "execution_count": 13,
   "metadata": {},
   "outputs": [],
   "source": [
    "# updatable plot# updat \n",
    "# a minimal example (sort of)\n",
    "\n",
    "class PlotLosses(keras.callbacks.Callback):\n",
    "\n",
    "    def __init__(self):\n",
    "        self.i = 0\n",
    "        self.x = []\n",
    "        self.losses = []\n",
    "        self.val_losses = []\n",
    "        self.logs = []\n",
    "    \n",
    "    def on_train_begin(self, logs={}):\n",
    "        self.fig = plt.figure()\n",
    "        self.logs = []\n",
    "\n",
    "    def on_epoch_end(self, epoch, logs={}):\n",
    "        self.logs.append(logs)\n",
    "        self.x.append(self.i)\n",
    "        self.losses.append(logs.get('loss'))\n",
    "        self.val_losses.append(logs.get('val_loss'))\n",
    "        self.i += 1\n",
    "        \n",
    "        clear_output(wait=True)\n",
    "        plt.plot(self.x, self.losses, label=\"loss\")\n",
    "        plt.plot(self.x, self.val_losses, label=\"val_loss\")\n",
    "        plt.legend()\n",
    "        plt.show();\n",
    "        \n",
    "plot_losses = PlotLosses()"
   ]
  },
  {
   "cell_type": "code",
   "execution_count": 14,
   "metadata": {},
   "outputs": [],
   "source": [
    "# Split the data into train and test\n",
    "\n",
    "qtrain_vlist, qtest_vlist, atrain_vlist, atest_vlist = train_test_split(q_np_vlist, a_np_vlist, test_size=0.2, random_state=1 )"
   ]
  },
  {
   "cell_type": "code",
   "execution_count": 15,
   "metadata": {},
   "outputs": [
    {
     "name": "stdout",
     "output_type": "stream",
     "text": [
      "_________________________________________________________________\n",
      "Layer (type)                 Output Shape              Param #   \n",
      "=================================================================\n",
      "lstm_1 (LSTM)                (None, 12, 250)           501000    \n",
      "_________________________________________________________________\n",
      "lstm_2 (LSTM)                (None, 12, 250)           501000    \n",
      "_________________________________________________________________\n",
      "lstm_3 (LSTM)                (None, 12, 250)           501000    \n",
      "_________________________________________________________________\n",
      "lstm_4 (LSTM)                (None, 12, 250)           501000    \n",
      "=================================================================\n",
      "Total params: 2,004,000\n",
      "Trainable params: 2,004,000\n",
      "Non-trainable params: 0\n",
      "_________________________________________________________________\n"
     ]
    }
   ],
   "source": [
    "# Create the model\n",
    "\n",
    "model=Sequential()\n",
    "model.add(LSTM(input_shape=(WordPerSentenceLimit, w2vDimension), return_sequences=True, activation=\"sigmoid\", units=w2vDimension, kernel_initializer=\"glorot_normal\", recurrent_initializer=\"glorot_normal\", dropout=0.01, go_backwards=False) )\n",
    "model.add(LSTM(input_shape=(WordPerSentenceLimit, w2vDimension), return_sequences=True, activation=\"sigmoid\", units=w2vDimension, kernel_initializer=\"glorot_normal\", recurrent_initializer=\"glorot_normal\", dropout=0.01, go_backwards=True ) )\n",
    "model.add(LSTM(input_shape=(WordPerSentenceLimit, w2vDimension), return_sequences=True, activation=\"sigmoid\", units=w2vDimension, kernel_initializer=\"glorot_normal\", recurrent_initializer=\"glorot_normal\", dropout=0.01, go_backwards=False) )\n",
    "model.add(LSTM(input_shape=(WordPerSentenceLimit, w2vDimension), return_sequences=True, activation=\"sigmoid\", units=w2vDimension, kernel_initializer=\"glorot_normal\", recurrent_initializer=\"glorot_normal\", dropout=0.01, go_backwards=True ) )\n",
    "\n",
    "model.compile(loss='cosine_proximity', optimizer='adam', metrics=['accuracy'])\n",
    "model.summary()\n",
    "\n",
    "iteration = 0"
   ]
  },
  {
   "cell_type": "code",
   "execution_count": null,
   "metadata": {
    "scrolled": true
   },
   "outputs": [],
   "source": [
    "# Don't run this block on the first pass. Run it on later passes to load and continue training the model. \n",
    "# The overall loss value on the graph should continue to decrease in the same manner, giving some confidence the load worked ok.\n",
    "\n",
    "iteration = 110\n",
    "filename = \"bot_E{}.h5\".format(iteration)\n",
    "\n",
    "model = load_model(filename)\n",
    "WordPerSentenceLimit = 12"
   ]
  },
  {
   "cell_type": "code",
   "execution_count": 16,
   "metadata": {
    "scrolled": true
   },
   "outputs": [
    {
     "data": {
      "image/png": "[encoded data removed]",
      "text/plain": [
       "<matplotlib.figure.Figure at 0x1fa2c8ade10>"
      ]
     },
     "metadata": {},
     "output_type": "display_data"
    }
   ],
   "source": [
    "num_epochs = 100\n",
    "iteration += num_epochs\n",
    "\n",
    "model.fit(qtrain_vlist, atrain_vlist, \n",
    "          epochs=num_epochs, \n",
    "          validation_data=(qtest_vlist, atest_vlist), \n",
    "          callbacks=[plot_losses])\n",
    "\n",
    "filename = \"bot_E{}.h5\".format(iteration)\n",
    "model.save(filename)"
   ]
  },
  {
   "cell_type": "code",
   "execution_count": null,
   "metadata": {},
   "outputs": [],
   "source": []
  }
 ],
 "metadata": {
  "kernelspec": {
   "display_name": "Python 3",
   "language": "python",
   "name": "python3"
  },
  "language_info": {
   "codemirror_mode": {
    "name": "ipython",
    "version": 3
   },
   "file_extension": ".py",
   "mimetype": "text/x-python",
   "name": "python",
   "nbconvert_exporter": "python",
   "pygments_lexer": "ipython3",
   "version": "3.6.3"
  }
 },
 "nbformat": 4,
 "nbformat_minor": 2
}
