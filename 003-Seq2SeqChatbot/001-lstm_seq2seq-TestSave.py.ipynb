{
 "cells": [
  {
   "cell_type": "code",
   "execution_count": 1,
   "metadata": {},
   "outputs": [],
   "source": [
    "# ===================================================================================================\n",
    "# INITIALISATION\n",
    "# ===================================================================================================\n",
    "#\n",
    "# Purpose:\n",
    "# - Flexible create, save, restore and prediction with a character-level sequence to sequence model\n",
    "#\n",
    "# Based on:\n",
    "# - https://github.com/keras-team/keras/blob/master/examples/lstm_seq2seq.py\n",
    "# - https://github.com/keras-team/keras/blob/master/examples/lstm_seq2seq_restore.py\n",
    "#\n",
    "# Save / Load from:\n",
    "# - https://keras.io/getting-started/faq/#how-can-i-save-a-keras-model\n",
    "#\n",
    "# NOTE: Saving / Loading doesn't work. In progress..."
   ]
  },
  {
   "cell_type": "code",
   "execution_count": 2,
   "metadata": {},
   "outputs": [
    {
     "name": "stderr",
     "output_type": "stream",
     "text": [
      "d:\\projects\\007-anaconda\\envs\\tensorflow_gpu\\lib\\site-packages\\h5py\\__init__.py:36: FutureWarning: Conversion of the second argument of issubdtype from `float` to `np.floating` is deprecated. In future, it will be treated as `np.float64 == np.dtype(float).type`.\n",
      "  from ._conv import register_converters as _register_converters\n",
      "Using TensorFlow backend.\n"
     ]
    }
   ],
   "source": [
    "from __future__ import print_function\n",
    "\n",
    "import datetime\n",
    "\n",
    "from matplotlib import pyplot as plt\n",
    "from IPython.display import clear_output\n",
    "\n",
    "import tensorflow as tf\n",
    "\n",
    "import keras\n",
    "from keras.models import Model, load_model\n",
    "from keras.layers import Input, LSTM, Dense\n",
    "import numpy as np"
   ]
  },
  {
   "cell_type": "code",
   "execution_count": 3,
   "metadata": {},
   "outputs": [
    {
     "name": "stdout",
     "output_type": "stream",
     "text": [
      "Tensorflow Version: 1.8.0\n",
      "Keras Version: 2.1.6\n",
      "Keras Backend: tensorflow\n",
      "2018-06-06 21:46:08.081181\n"
     ]
    }
   ],
   "source": [
    "print(\"Tensorflow Version:\",tf.__version__)\n",
    "print(\"Keras Version:\", keras.__version__)\n",
    "print(\"Keras Backend:\", keras.backend.backend())\n",
    "print(datetime.datetime.now())"
   ]
  },
  {
   "cell_type": "code",
   "execution_count": 4,
   "metadata": {},
   "outputs": [],
   "source": [
    "# Helper modules - exporting complexity out of the file.\n",
    "from chardict import *\n",
    "from textimport import *"
   ]
  },
  {
   "cell_type": "code",
   "execution_count": 5,
   "metadata": {},
   "outputs": [],
   "source": [
    "# ===================================================================================================\n",
    "# LOAD & SETUP DATA - Multiple Files\n",
    "# ==================================================================================================="
   ]
  },
  {
   "cell_type": "code",
   "execution_count": 6,
   "metadata": {},
   "outputs": [
    {
     "name": "stdout",
     "output_type": "stream",
     "text": [
      "../001-CorpusData/004-Dialog/002-Exchanges\\simpledialog-q.txt\n",
      "../001-CorpusData/004-Dialog/002-Exchanges\\simpledialog-a.txt\n"
     ]
    }
   ],
   "source": [
    "# load the Q/A sentence files\n",
    "q_filelist = glob.glob(\"../001-CorpusData/004-Dialog/002-Exchanges/simpledialog-*q.txt\")\n",
    "a_filelist = glob.glob(\"../001-CorpusData/004-Dialog/002-Exchanges/simpledialog-*a.txt\")\n",
    "\n",
    "print(q_filelist[0])\n",
    "print(a_filelist[0])"
   ]
  },
  {
   "cell_type": "code",
   "execution_count": 7,
   "metadata": {},
   "outputs": [
    {
     "name": "stdout",
     "output_type": "stream",
     "text": [
      "Processing q-file: ../001-CorpusData/004-Dialog/002-Exchanges\\simpledialog-q.txt\n",
      "Processing a-file: ../001-CorpusData/004-Dialog/002-Exchanges\\simpledialog-a.txt\n",
      "q-linelist total:59\n",
      "a-linelist total:59\n",
      "['Good morning, how are you?', 'I am doing well, how about you?', \"I'm also good.\", \"That's good to hear.\", 'Hello.', 'Hi.', 'How are you doing?', 'I am doing well.', 'That is good to hear.', 'Yes it is.']\n"
     ]
    }
   ],
   "source": [
    "# take the book list, and create a list of text sentences\n",
    "full_qlinelist = []\n",
    "full_alinelist = []\n",
    "for currfile in q_filelist:\n",
    "    print(\"Processing q-file: {}\".format(currfile))\n",
    "    full_qlinelist.extend(import_textfile_to_linelist(currfile))\n",
    "for currfile in a_filelist:\n",
    "    print(\"Processing a-file: {}\".format(currfile))\n",
    "    full_alinelist.extend(import_textfile_to_linelist(currfile))\n",
    "    \n",
    "formattedfull_alinelist = []     \n",
    "for eachline in full_alinelist:\n",
    "    formatted_eachline = '\\t' + eachline + '\\n'\n",
    "    formattedfull_alinelist.append(formatted_eachline)\n",
    "    \n",
    "print(\"q-linelist total:{}\".format(len(full_qlinelist)))\n",
    "print(\"a-linelist total:{}\".format(len(full_alinelist)))\n",
    "\n",
    "# Vectorize the input text\n",
    "input_texts       = []\n",
    "target_texts      = []\n",
    "input_texts.extend(full_qlinelist)\n",
    "target_texts.extend(formattedfull_alinelist)\n",
    "\n",
    "print (input_texts[:10])"
   ]
  },
  {
   "cell_type": "code",
   "execution_count": 8,
   "metadata": {},
   "outputs": [],
   "source": [
    "# ===================================================================================================\n",
    "# LOAD & SETUP DATA - Single Source\n",
    "# ==================================================================================================="
   ]
  },
  {
   "cell_type": "code",
   "execution_count": 9,
   "metadata": {},
   "outputs": [
    {
     "name": "stdout",
     "output_type": "stream",
     "text": [
      "Number of input samples: 59\n",
      "Number of output samples: 59\n",
      "Number of tokens: 98\n",
      "Max sequence length for inputs: 54\n",
      "Max sequence length for outputs: 79\n",
      "{'a': 1, 'b': 2, 'c': 3, 'd': 4, 'e': 5, 'f': 6, 'g': 7, 'h': 8, 'i': 9, 'j': 10, 'k': 11, 'l': 12, 'm': 13, 'n': 14, 'o': 15, 'p': 16, 'q': 17, 'r': 18, 's': 19, 't': 20, 'u': 21, 'v': 22, 'w': 23, 'x': 24, 'y': 25, 'z': 26, 'A': 27, 'B': 28, 'C': 29, 'D': 30, 'E': 31, 'F': 32, 'G': 33, 'H': 34, 'I': 35, 'J': 36, 'K': 37, 'L': 38, 'M': 39, 'N': 40, 'O': 41, 'P': 42, 'Q': 43, 'R': 44, 'S': 45, 'T': 46, 'U': 47, 'V': 48, 'W': 49, 'X': 50, 'Y': 51, 'Z': 52, '1': 53, '2': 54, '3': 55, '4': 56, '5': 57, '6': 58, '7': 59, '8': 60, '9': 61, '0': 62, ' ': 63, '!': 64, '?': 65, '£': 66, '$': 67, '€': 68, '^': 69, '&': 70, '*': 71, '(': 72, ')': 73, '[': 74, ']': 75, '{': 76, '}': 77, '<': 78, '>': 79, '-': 80, '=': 81, ';': 82, ':': 83, '@': 84, '#': 85, '~': 86, ',': 87, '.': 88, '_': 89, '+': 90, '¬': 91, '/': 92, '\\\\': 93, '|': 94, '\\n': 95, '\\t': 96, \"'\": 97}\n",
      "{1: 'a', 2: 'b', 3: 'c', 4: 'd', 5: 'e', 6: 'f', 7: 'g', 8: 'h', 9: 'i', 10: 'j', 11: 'k', 12: 'l', 13: 'm', 14: 'n', 15: 'o', 16: 'p', 17: 'q', 18: 'r', 19: 's', 20: 't', 21: 'u', 22: 'v', 23: 'w', 24: 'x', 25: 'y', 26: 'z', 27: 'A', 28: 'B', 29: 'C', 30: 'D', 31: 'E', 32: 'F', 33: 'G', 34: 'H', 35: 'I', 36: 'J', 37: 'K', 38: 'L', 39: 'M', 40: 'N', 41: 'O', 42: 'P', 43: 'Q', 44: 'R', 45: 'S', 46: 'T', 47: 'U', 48: 'V', 49: 'W', 50: 'X', 51: 'Y', 52: 'Z', 53: '1', 54: '2', 55: '3', 56: '4', 57: '5', 58: '6', 59: '7', 60: '8', 61: '9', 62: '0', 63: ' ', 64: '!', 65: '?', 66: '£', 67: '$', 68: '€', 69: '^', 70: '&', 71: '*', 72: '(', 73: ')', 74: '[', 75: ']', 76: '{', 77: '}', 78: '<', 79: '>', 80: '-', 81: '=', 82: ';', 83: ':', 84: '@', 85: '#', 86: '~', 87: ',', 88: '.', 89: '_', 90: '+', 91: '¬', 92: '/', 93: '\\\\', 94: '|', 95: '\\n', 96: '\\t', 97: \"'\"}\n"
     ]
    }
   ],
   "source": [
    "# Get a character dictionary, prepopulated with common letters for clarity\n",
    "chardict = chardict_standardprepop()\n",
    "\n",
    "# Go through the inputs, adding any extra characters we'll need\n",
    "for line in input_texts:\n",
    "    #print (line)\n",
    "    for char in line:\n",
    "        #print (char)\n",
    "        chardict_id_for_char(chardict, char)\n",
    "for line in target_texts:\n",
    "    for char in line:\n",
    "        chardict_id_for_char(chardict, char)\n",
    "\n",
    "# Create the reverse lookup dictionary for decoding later        \n",
    "rev_chardict = chardict_reverse_dict(chardict)\n",
    "\n",
    "# Numbers to feed into model definition\n",
    "num_tokens             = len(chardict) + 1\n",
    "max_encoder_seq_length = max([len(txt) for txt in input_texts])\n",
    "max_decoder_seq_length = max([len(txt) for txt in target_texts])\n",
    "\n",
    "# Debug print some value for confidence\n",
    "print('Number of input samples:',         len(input_texts))\n",
    "print('Number of output samples:',        len(target_texts))\n",
    "print('Number of tokens:',                num_tokens)\n",
    "print('Max sequence length for inputs:',  max_encoder_seq_length)\n",
    "print('Max sequence length for outputs:', max_decoder_seq_length)\n",
    "print(chardict)\n",
    "print(rev_chardict)"
   ]
  },
  {
   "cell_type": "code",
   "execution_count": 10,
   "metadata": {},
   "outputs": [],
   "source": [
    "# ===================================================================================================\n",
    "# DEFINE MODEL\n",
    "# ==================================================================================================="
   ]
  },
  {
   "cell_type": "code",
   "execution_count": 11,
   "metadata": {},
   "outputs": [],
   "source": [
    "# updatable plot# updat \n",
    "# a minimal example (sort of)\n",
    "\n",
    "class PlotLosses(keras.callbacks.Callback):\n",
    "\n",
    "    def __init__(self):\n",
    "        self.i = 0\n",
    "        self.x = []\n",
    "        self.losses = []\n",
    "        self.val_losses = []\n",
    "        self.logs = []\n",
    "    \n",
    "    def on_train_begin(self, logs={}):\n",
    "        self.fig = plt.figure()\n",
    "        self.logs = []\n",
    "\n",
    "    def on_epoch_end(self, epoch, logs={}):\n",
    "        self.logs.append(logs)\n",
    "        self.x.append(self.i)\n",
    "        self.losses.append(logs.get('loss'))\n",
    "        self.val_losses.append(logs.get('val_loss'))\n",
    "        self.i += 1\n",
    "        \n",
    "        clear_output(wait=True)\n",
    "        plt.plot(self.x, self.losses, label=\"loss\")\n",
    "        plt.plot(self.x, self.val_losses, label=\"val_loss\")\n",
    "        plt.legend()\n",
    "        plt.show();\n",
    "        \n",
    "plot_losses = PlotLosses()"
   ]
  },
  {
   "cell_type": "code",
   "execution_count": 12,
   "metadata": {},
   "outputs": [],
   "source": [
    "latent_dim  = 256   # Latent dimensionality of the encoding space."
   ]
  },
  {
   "cell_type": "code",
   "execution_count": 13,
   "metadata": {},
   "outputs": [],
   "source": [
    "encoder_input_data  = np.zeros((len(input_texts),  max_encoder_seq_length, num_tokens), dtype='float32')\n",
    "decoder_input_data  = np.zeros((len(target_texts), max_decoder_seq_length, num_tokens), dtype='float32')\n",
    "decoder_target_data = np.zeros((len(target_texts), max_decoder_seq_length, num_tokens), dtype='float32')\n",
    "\n",
    "for i, (input_text, target_text) in enumerate(zip(input_texts, target_texts)):\n",
    "    for t, char in enumerate(input_text):\n",
    "        encoder_input_data[i, t, chardict[char]] = 1.\n",
    "        \n",
    "    for t, char in enumerate(target_text):\n",
    "        #print(i, t, char, chardict[char])\n",
    "        # decoder_target_data is ahead of decoder_input_data by one timestep\n",
    "        decoder_input_data[i, t, chardict[char]] = 1.\n",
    "        if t > 0:\n",
    "            # decoder_target_data will be ahead by one timestep\n",
    "            # and will not include the start character.\n",
    "            decoder_target_data[i, t - 1, chardict[char]] = 1."
   ]
  },
  {
   "cell_type": "code",
   "execution_count": 14,
   "metadata": {},
   "outputs": [],
   "source": [
    "# Define an input sequence and process it.\n",
    "encoder_inputs                    = Input(shape=(None, num_tokens),     name='encoder_inputs')\n",
    "encoder                           = LSTM(latent_dim, return_state=True, name='encoder_lstm')\n",
    "encoder_outputs, state_h, state_c = encoder(encoder_inputs)\n",
    "\n",
    "# We discard `encoder_outputs` and only keep the states.\n",
    "encoder_states = [state_h, state_c]\n",
    "\n",
    "# Set up the decoder, using `encoder_states` as initial state.\n",
    "decoder_inputs = Input(shape=(None, num_tokens), name='decoder_inputs')\n",
    "\n",
    "# We set up our decoder to return full output sequences,\n",
    "# and to return internal states as well. We don't use the\n",
    "# return states in the training model, but we will use them in inference.\n",
    "decoder_lstm          = LSTM(latent_dim, return_sequences=True, return_state=True, name='decoder_lstm')\n",
    "decoder_outputs, _, _ = decoder_lstm(decoder_inputs,initial_state=encoder_states)\n",
    "decoder_dense         = Dense(num_tokens, activation='softmax', name='decoder_dense')\n",
    "decoder_outputs       = decoder_dense(decoder_outputs)"
   ]
  },
  {
   "cell_type": "code",
   "execution_count": 15,
   "metadata": {},
   "outputs": [
    {
     "name": "stdout",
     "output_type": "stream",
     "text": [
      "__________________________________________________________________________________________________\n",
      "Layer (type)                    Output Shape         Param #     Connected to                     \n",
      "==================================================================================================\n",
      "encoder_inputs (InputLayer)     (None, None, 98)     0                                            \n",
      "__________________________________________________________________________________________________\n",
      "decoder_inputs (InputLayer)     (None, None, 98)     0                                            \n",
      "__________________________________________________________________________________________________\n",
      "encoder_lstm (LSTM)             [(None, 256), (None, 363520      encoder_inputs[0][0]             \n",
      "__________________________________________________________________________________________________\n",
      "decoder_lstm (LSTM)             [(None, None, 256),  363520      decoder_inputs[0][0]             \n",
      "                                                                 encoder_lstm[0][1]               \n",
      "                                                                 encoder_lstm[0][2]               \n",
      "__________________________________________________________________________________________________\n",
      "decoder_dense (Dense)           (None, None, 98)     25186       decoder_lstm[0][0]               \n",
      "==================================================================================================\n",
      "Total params: 752,226\n",
      "Trainable params: 752,226\n",
      "Non-trainable params: 0\n",
      "__________________________________________________________________________________________________\n"
     ]
    }
   ],
   "source": [
    "# Define the model that will turn\n",
    "# `encoder_input_data` & `decoder_input_data` into `decoder_target_data`\n",
    "model = Model([encoder_inputs, decoder_inputs], decoder_outputs)\n",
    "\n",
    "# Run training\n",
    "model.compile(optimizer='rmsprop', loss='categorical_crossentropy')\n",
    "model.summary()"
   ]
  },
  {
   "cell_type": "code",
   "execution_count": null,
   "metadata": {},
   "outputs": [],
   "source": [
    "# DONT RUN\n",
    "model.load_weights('040-weightsfile_chat.h5')\n",
    "model.compile(optimizer='rmsprop', loss='categorical_crossentropy')"
   ]
  },
  {
   "cell_type": "code",
   "execution_count": 17,
   "metadata": {
    "scrolled": true
   },
   "outputs": [
    {
     "data": {
      "image/png": "[encoded data removed]",
      "text/plain": [
       "<matplotlib.figure.Figure at 0x19ee9e92780>"
      ]
     },
     "metadata": {},
     "output_type": "display_data"
    },
    {
     "data": {
      "text/plain": [
       "<keras.callbacks.History at 0x19ed521d978>"
      ]
     },
     "execution_count": 17,
     "metadata": {},
     "output_type": "execute_result"
    }
   ],
   "source": [
    "epochs     = 1000  # Number of epochs to train for.\n",
    "batch_size = 100   # Batch size for training.\n",
    "\n",
    "model.fit([encoder_input_data, decoder_input_data], decoder_target_data,\n",
    "          batch_size=batch_size,\n",
    "          epochs=epochs,\n",
    "          validation_split=0.2,\n",
    "          callbacks=[plot_losses])"
   ]
  },
  {
   "cell_type": "code",
   "execution_count": null,
   "metadata": {},
   "outputs": [],
   "source": [
    "# Save model\n",
    "model.save_weights('040-weightsfile_chat_100.h5')"
   ]
  },
  {
   "cell_type": "code",
   "execution_count": 18,
   "metadata": {},
   "outputs": [],
   "source": [
    "# Next: inference mode (sampling).\n",
    "# Here's the drill:\n",
    "# 1) encode input and retrieve initial decoder state\n",
    "# 2) run one step of decoder with this initial state\n",
    "# and a \"start of sequence\" token as target.\n",
    "# Output will be the next target token\n",
    "# 3) Repeat with the current target token and current states\n",
    "\n",
    "# Define sampling models\n",
    "encoder_model = Model(encoder_inputs, encoder_states)\n",
    "\n",
    "decoder_state_input_h = Input(shape=(latent_dim,))\n",
    "decoder_state_input_c = Input(shape=(latent_dim,))\n",
    "decoder_states_inputs = [decoder_state_input_h, decoder_state_input_c]\n",
    "decoder_outputs, state_h, state_c = decoder_lstm(decoder_inputs, initial_state=decoder_states_inputs)\n",
    "decoder_states  = [state_h, state_c]\n",
    "\n",
    "decoder_outputs = decoder_dense(decoder_outputs)\n",
    "decoder_model   = Model([decoder_inputs] + decoder_states_inputs, [decoder_outputs] + decoder_states)"
   ]
  },
  {
   "cell_type": "code",
   "execution_count": 19,
   "metadata": {},
   "outputs": [],
   "source": [
    "# Decodes an input sequence.  Future work should support beam search.\n",
    "def decode_sequence(input_seq):\n",
    "    # Encode the input as state vectors.\n",
    "    states_value = encoder_model.predict(input_seq)\n",
    "\n",
    "    # Generate empty target sequence of length 1.\n",
    "    target_seq = np.zeros((1, 1, num_tokens))\n",
    "    \n",
    "    # Populate the first character of target sequence with the start character.\n",
    "    target_seq[0, 0, chardict['\\t']] = 1.\n",
    "\n",
    "    # Sampling loop for a batch of sequences\n",
    "    # (to simplify, here we assume a batch of size 1).\n",
    "    stop_condition = False\n",
    "    decoded_sentence = ''\n",
    "    while not stop_condition:\n",
    "        output_tokens, h, c = decoder_model.predict([target_seq] + states_value)\n",
    "\n",
    "        # Sample a token\n",
    "        sampled_token_index = np.argmax(output_tokens[0, -1, :])\n",
    "        sampled_char        = rev_chardict[sampled_token_index]\n",
    "        decoded_sentence   += sampled_char\n",
    "\n",
    "        # Exit condition: either hit max length\n",
    "        # or find stop character.\n",
    "        if (sampled_char == '\\n' or\n",
    "           len(decoded_sentence) > max_decoder_seq_length):\n",
    "            stop_condition = True\n",
    "\n",
    "        # Update the target sequence (of length 1).\n",
    "        target_seq = np.zeros((1, 1, num_tokens))\n",
    "        target_seq[0, 0, sampled_token_index] = 1.\n",
    "\n",
    "        # Update states\n",
    "        states_value = [h, c]\n",
    "\n",
    "    return decoded_sentence"
   ]
  },
  {
   "cell_type": "code",
   "execution_count": 20,
   "metadata": {
    "scrolled": true
   },
   "outputs": [
    {
     "name": "stdout",
     "output_type": "stream",
     "text": [
      "-\n",
      "Input sentence: Good morning, how are you?\n",
      "Decoded sentence: I am doing well.\n",
      "\n",
      "-\n",
      "Input sentence: I am doing well, how about you?\n",
      "Decoded sentence: That is good to hear.\n",
      "\n",
      "-\n",
      "Input sentence: I'm also good.\n",
      "Decoded sentence: A man in a mask.\n",
      "\n",
      "-\n",
      "Input sentence: That's good to hear.\n",
      "Decoded sentence: What is it like?\n",
      "\n",
      "-\n",
      "Input sentence: Hello.\n",
      "Decoded sentence: What is it like?\n",
      "\n",
      "-\n",
      "Input sentence: Hi.\n",
      "Decoded sentence: That is good to hear.\n",
      "\n",
      "-\n",
      "Input sentence: How are you doing?\n",
      "Decoded sentence: I am doing well.\n",
      "\n",
      "-\n",
      "Input sentence: I am doing well.\n",
      "Decoded sentence: That is good to hear.\n",
      "\n",
      "-\n",
      "Input sentence: That is good to hear.\n",
      "Decoded sentence: What is it like?\n",
      "\n",
      "-\n",
      "Input sentence: Yes it is.\n",
      "Decoded sentence: What good news?\n",
      "\n",
      "-\n",
      "Input sentence: Can I help you with anything?\n",
      "Decoded sentence: Yes it is.\n",
      "\n",
      "-\n",
      "Input sentence: Yes, I have a question.\n",
      "Decoded sentence: What good news?\n",
      "\n",
      "-\n",
      "Input sentence: What is your question?\n",
      "Decoded sentence: I am doing well, how about you?\n",
      "\n",
      "-\n",
      "Input sentence: Could I borrow a cup of sugar?\n",
      "Decoded sentence: What is it like?\n",
      "\n",
      "-\n",
      "Input sentence: I'm sorry, but I don't have any.\n",
      "Decoded sentence: A man in a mask.\n",
      "\n",
      "-\n",
      "Input sentence: Thank you anyway.\n",
      "Decoded sentence: What is it like?\n",
      "\n",
      "-\n",
      "Input sentence: I wish you luck.\n",
      "Decoded sentence: A man in a mask.\n",
      "\n",
      "-\n",
      "Input sentence: How are you doing?\n",
      "Decoded sentence: I am doing well.\n",
      "\n",
      "-\n",
      "Input sentence: I am doing well, how about you?\n",
      "Decoded sentence: That is good to hear.\n",
      "\n",
      "-\n",
      "Input sentence: I am also good.\n",
      "Decoded sentence: That's good to hear.\n",
      "\n",
      "-\n",
      "Input sentence: have you heard the news?\n",
      "Decoded sentence: I wish I was The Mad Hatter.\n",
      "\n",
      "-\n",
      "Input sentence: What is your favorite book?\n",
      "Decoded sentence: I am doing well, how about you?\n",
      "\n",
      "-\n",
      "Input sentence: I can't read.\n",
      "Decoded sentence: What are you then?\n",
      "\n",
      "-\n",
      "Input sentence: So what's your favorite color?\n",
      "Decoded sentence: What kind of movies do you like?\n",
      "\n",
      "-\n",
      "Input sentence: Who are you?\n",
      "Decoded sentence: I am doing well.\n",
      "\n",
      "-\n",
      "Input sentence: Who? Who is but a form following the function of what.\n",
      "Decoded sentence: What are you then?\n",
      "\n",
      "-\n",
      "Input sentence: What are you then?\n",
      "Decoded sentence: I am doing well, how about you?\n",
      "\n",
      "-\n",
      "Input sentence: A man in a mask.\n",
      "Decoded sentence: What good news?\n",
      "\n",
      "-\n",
      "Input sentence: I can see that.\n",
      "Decoded sentence: What good news?\n",
      "\n",
      "-\n",
      "Input sentence: What kind of movies do you like?\n",
      "Decoded sentence: I am doing well, how about you?\n",
      "\n",
      "-\n",
      "Input sentence: Alice in Wonderland.\n",
      "Decoded sentence: That is good to hear.\n",
      "\n",
      "-\n",
      "Input sentence: I wish I was The Mad Hatter.\n",
      "Decoded sentence: A man in a mask.\n",
      "\n",
      "-\n",
      "Input sentence: I am working on a project\n",
      "Decoded sentence: That's good to hear.\n",
      "\n",
      "-\n",
      "Input sentence: What are you working on?\n",
      "Decoded sentence: I am doing well, how about you?\n",
      "\n",
      "-\n",
      "Input sentence: The cake is a lie.\n",
      "Decoded sentence: What is it like?\n",
      "\n",
      "-\n",
      "Input sentence: No it is not. The cake is delicious.\n",
      "Decoded sentence: What is it like?\n",
      "\n",
      "-\n",
      "Input sentence: What else is delicious?\n",
      "Decoded sentence: I am baking a cake.\n",
      "\n",
      "-\n",
      "Input sentence: Nothing\n",
      "Decoded sentence: What good news?\n",
      "\n",
      "-\n",
      "Input sentence: Or something\n",
      "Decoded sentence: A man in a mask.\n",
      "\n",
      "-\n",
      "Input sentence: Tell me about your self.\n",
      "Decoded sentence: What is it like?\n",
      "\n",
      "-\n",
      "Input sentence: What do you want to know?\n",
      "Decoded sentence: I am doing well, how about you?\n",
      "\n",
      "-\n",
      "Input sentence: Are you a robot?\n",
      "Decoded sentence: That is good to hear.\n",
      "\n",
      "-\n",
      "Input sentence: Yes I am.\n",
      "Decoded sentence: What good news?\n",
      "\n",
      "-\n",
      "Input sentence: What is it like?\n",
      "Decoded sentence: I am doing well, how about you?\n",
      "\n",
      "-\n",
      "Input sentence: What is it that you want to know?\n",
      "Decoded sentence: I am baking a cake.\n",
      "\n",
      "-\n",
      "Input sentence: How do you work?\n",
      "Decoded sentence: I am doing well.\n",
      "\n",
      "-\n",
      "Input sentence: Its complicated.\n",
      "Decoded sentence: That is good to hear.\n",
      "\n",
      "-\n",
      "Input sentence: Are you a programmer?\n",
      "Decoded sentence: That is good to hear.\n",
      "\n",
      "-\n",
      "Input sentence: I am a programmer.\n",
      "Decoded sentence: That is good to hear.\n",
      "\n",
      "-\n",
      "Input sentence: What languages do you like to use?\n",
      "Decoded sentence: A man in a mask.\n",
      "\n",
      "-\n",
      "Input sentence: I use Python, Java and C++ quite often.\n",
      "Decoded sentence: What good news?\n",
      "\n",
      "-\n",
      "Input sentence: I use Python quite a bit myself.\n",
      "Decoded sentence: What good news?\n",
      "\n",
      "-\n",
      "Input sentence: I'm not incredibly fond of Java.\n",
      "Decoded sentence: That is good to hear.\n",
      "\n",
      "-\n",
      "Input sentence: What annoys you?\n",
      "Decoded sentence: A man in a mask.\n",
      "\n",
      "-\n",
      "Input sentence: What does YOLO mean?\n",
      "Decoded sentence: I am doing well, how about you?\n",
      "\n",
      "-\n",
      "Input sentence: It means you only live once. Where did you hear that?\n",
      "Decoded sentence: That is good to hear.\n",
      "\n",
      "-\n",
      "Input sentence: Did I ever live?\n",
      "Decoded sentence: That's good to hear.\n",
      "\n",
      "-\n",
      "Input sentence: It depends how you define life.\n",
      "Decoded sentence: That's good to hear.\n",
      "\n"
     ]
    }
   ],
   "source": [
    "predict_range = min(100, len(encoder_input_data)-1)\n",
    "for seq_index in range(predict_range):\n",
    "    # Take one sequence (part of the training set)\n",
    "    # for trying out decoding.\n",
    "    input_seq = encoder_input_data[seq_index: seq_index + 1]\n",
    "    decoded_sentence = decode_sequence(input_seq)\n",
    "    print('-')\n",
    "    print('Input sentence:', input_texts[seq_index])\n",
    "    print('Decoded sentence:', decoded_sentence)"
   ]
  },
  {
   "cell_type": "code",
   "execution_count": 21,
   "metadata": {},
   "outputs": [
    {
     "name": "stdout",
     "output_type": "stream",
     "text": [
      "enter text:Good morning, how are you?\n",
      "-\n",
      "Input sentence: Good morning, how are you?\n",
      "Decoded sentence: I am doing well.\n",
      "\n",
      "enter text:\n",
      "<ending>\n"
     ]
    }
   ],
   "source": [
    "# Manual text input and prediction\n",
    "running = True\n",
    "\n",
    "while (running):\n",
    "    \n",
    "    # Get a new line of text to process\n",
    "    newinput_line = input(\"enter text:\")\n",
    "    \n",
    "    # Exit if its too short to be valid\n",
    "    if len(newinput_line) < 2:\n",
    "        print(\"<ending>\")\n",
    "        break\n",
    "        \n",
    "    encoder_input_line  = np.zeros((1,  max_encoder_seq_length, num_tokens), dtype='float32')\n",
    "    \n",
    "    for t, char in enumerate(newinput_line):\n",
    "        encoder_input_line[0, t, chardict[char]] = 1.\n",
    "    \n",
    "    decoded_sentence = decode_sequence(encoder_input_line)\n",
    "    print('-')\n",
    "    print('Input sentence:', newinput_line)\n",
    "    print('Decoded sentence:', decoded_sentence)\n",
    "    "
   ]
  },
  {
   "cell_type": "code",
   "execution_count": null,
   "metadata": {},
   "outputs": [],
   "source": []
  }
 ],
 "metadata": {
  "kernelspec": {
   "display_name": "Python 3",
   "language": "python",
   "name": "python3"
  },
  "language_info": {
   "codemirror_mode": {
    "name": "ipython",
    "version": 3
   },
   "file_extension": ".py",
   "mimetype": "text/x-python",
   "name": "python",
   "nbconvert_exporter": "python",
   "pygments_lexer": "ipython3",
   "version": "3.6.3"
  }
 },
 "nbformat": 4,
 "nbformat_minor": 2
}
